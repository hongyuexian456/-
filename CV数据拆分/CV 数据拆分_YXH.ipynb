{
 "cells": [
  {
   "cell_type": "code",
   "execution_count": 1,
   "id": "679c8613",
   "metadata": {},
   "outputs": [],
   "source": [
    "#Author: Yuexian Hong, Liuyang\n",
    "\n",
    "with open('6_Na2Mn3O7-9.27.csv','r') as f:\n",
    "    data = f.readlines()\n",
    "list = []\n",
    "for i in range(2,len(data)-1):\n",
    "    [v,a] = data[i].split(',')\n",
    "    list.append([v,a.replace('\\n','')]\n",
    "                \n",
    "indexs = []\n",
    "\n",
    "for i in range(1,len(list)-1):\n",
    "    print(list[i][0],list[i-1][0],list[i+1][0])\n",
    "    if list[i][0]<list[i-1][0] and list[i][0]<list[i+1][0]:\n",
    "        indexs.append(i)\n",
    "                \n",
    "datas = []\n",
    "\n",
    "pre = 0\n",
    "for i in indexs:\n",
    "  \n",
    "    datas.append(list[pre:i])\n",
    "    pre = i\n",
    "\n",
    "datas.append(list[pre:])\n",
    "\n",
    "length = 0\n",
    "\n",
    "for i in datas:\n",
    "    length = max(length, len(i))\n",
    "            \n",
    "res = []\n",
    "\n",
    "for i in range(length):\n",
    "    items = []\n",
    "    for j in range(len(datas)):\n",
    "        if i<len(datas[j]):\n",
    "            items+=datas[j][i]\n",
    "        else:\n",
    "            items+= [' ', ' ']\n",
    "    res.append(','.join(items)+'\\n')\n",
    "    \n",
    "with open('output.csv','w') as f:\n",
    "    for i in res:\n",
    "        f.writelines(i)"
   ]
  }
 ],
 "metadata": {
  "kernelspec": {
   "display_name": "Python 3",
   "language": "python",
   "name": "python3"
  },
  "language_info": {
   "codemirror_mode": {
    "name": "ipython",
    "version": 3
   },
   "file_extension": ".py",
   "mimetype": "text/x-python",
   "name": "python",
   "nbconvert_exporter": "python",
   "pygments_lexer": "ipython3",
   "version": "3.8.8"
  }
 },
 "nbformat": 4,
 "nbformat_minor": 5
}
